{
 "cells": [
  {
   "cell_type": "code",
   "execution_count": 2,
   "id": "11efc560",
   "metadata": {},
   "outputs": [
    {
     "name": "stdout",
     "output_type": "stream",
     "text": [
      "          Duration     Pulse  Maxpulse  Calories\n",
      "Duration  1.000000 -0.155408  0.009403  0.922717\n",
      "Pulse    -0.155408  1.000000  0.786535  0.025121\n",
      "Maxpulse  0.009403  0.786535  1.000000  0.203813\n",
      "Calories  0.922717  0.025121  0.203813  1.000000\n"
     ]
    }
   ],
   "source": [
    "import pandas as pd\n",
    "df = pd.read_csv(\"/Users/wangyiming2022/Desktop/datasets/data2.csv\")\n",
    "print(df.corr())"
   ]
  },
  {
   "cell_type": "code",
   "execution_count": null,
   "id": "9c740ceb",
   "metadata": {},
   "outputs": [],
   "source": [
    "# The corr() method ignores \"not numeric\" columns."
   ]
  },
  {
   "cell_type": "code",
   "execution_count": null,
   "id": "68f0ab7a",
   "metadata": {},
   "outputs": [],
   "source": [
    "# The Result of the corr() method is a table with a lot of numbers that represents how well the relationship is between two columns.\n",
    "\n",
    "# The number varies from -1 to 1.\n",
    "\n",
    "# 1 means that there is a 1 to 1 relationship (a perfect correlation), and for this data set, each time a value went up in the first column, the other one went up as well.\n",
    "\n",
    "# 0.9 is also a good relationship, and if you increase one value, the other will probably increase as well.\n",
    "\n",
    "# -0.9 would be just as good relationship as 0.9, but if you increase one value, the other will probably go down.\n",
    "\n",
    "# 0.2 means NOT a good relationship, meaning that if one value goes up does not mean that the other will.\n"
   ]
  },
  {
   "cell_type": "code",
   "execution_count": null,
   "id": "f7ee11fa",
   "metadata": {},
   "outputs": [],
   "source": [
    "# It depends on the use, but I think it is safe to say you have to have at least 0.6 (or -0.6) to call it a good correlation."
   ]
  }
 ],
 "metadata": {
  "kernelspec": {
   "display_name": "Python 3 (ipykernel)",
   "language": "python",
   "name": "python3"
  },
  "language_info": {
   "codemirror_mode": {
    "name": "ipython",
    "version": 3
   },
   "file_extension": ".py",
   "mimetype": "text/x-python",
   "name": "python",
   "nbconvert_exporter": "python",
   "pygments_lexer": "ipython3",
   "version": "3.10.9"
  }
 },
 "nbformat": 4,
 "nbformat_minor": 5
}
