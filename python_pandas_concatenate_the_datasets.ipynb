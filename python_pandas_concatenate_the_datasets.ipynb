{
 "cells": [
  {
   "cell_type": "code",
   "execution_count": 14,
   "id": "367d1da4",
   "metadata": {
    "scrolled": true
   },
   "outputs": [
    {
     "name": "stderr",
     "output_type": "stream",
     "text": [
      "/var/folders/8y/q31x3zvn45b59b2q89grp50m0000gn/T/ipykernel_39522/4262613374.py:2: DtypeWarning: Columns (0,2,35) have mixed types. Specify dtype option on import or set low_memory=False.\n",
      "  df1 = pd.read_csv(\"/Users/wangyiming2022/Desktop/dft-road-casualty-statistics-accident-2019.csv\")\n",
      "/var/folders/8y/q31x3zvn45b59b2q89grp50m0000gn/T/ipykernel_39522/4262613374.py:3: DtypeWarning: Columns (0,2) have mixed types. Specify dtype option on import or set low_memory=False.\n",
      "  df2 = pd.read_csv(\"/Users/wangyiming2022/Desktop/dft-road-casualty-statistics-accident-2020.csv\")\n",
      "/var/folders/8y/q31x3zvn45b59b2q89grp50m0000gn/T/ipykernel_39522/4262613374.py:4: DtypeWarning: Columns (0,2,35) have mixed types. Specify dtype option on import or set low_memory=False.\n",
      "  df3 = pd.read_csv(\"/Users/wangyiming2022/Desktop/dft-road-casualty-statistics-accident-2021.csv\")\n"
     ]
    }
   ],
   "source": [
    "import pandas as pd\n",
    "df1 = pd.read_csv(\"/Users/wangyiming2022/Desktop/dft-road-casualty-statistics-accident-2019.csv\")\n",
    "df2 = pd.read_csv(\"/Users/wangyiming2022/Desktop/dft-road-casualty-statistics-accident-2020.csv\")\n",
    "df3 = pd.read_csv(\"/Users/wangyiming2022/Desktop/dft-road-casualty-statistics-accident-2021.csv\")"
   ]
  },
  {
   "cell_type": "code",
   "execution_count": 15,
   "id": "8ea6b01d",
   "metadata": {
    "scrolled": true
   },
   "outputs": [
    {
     "name": "stdout",
     "output_type": "stream",
     "text": [
      "  accident_index  accident_year accident_reference  location_easting_osgr  \\\n",
      "0  2019010128300           2019           10128300               528218.0   \n",
      "1  2019010152270           2019           10152270               530219.0   \n",
      "2  2019010155191           2019           10155191               530222.0   \n",
      "3  2019010155192           2019           10155192               525531.0   \n",
      "4  2019010155194           2019           10155194               524920.0   \n",
      "\n",
      "   location_northing_osgr  longitude   latitude  police_force  \\\n",
      "0                180407.0  -0.153842  51.508057             1   \n",
      "1                172463.0  -0.127949  51.436208             1   \n",
      "2                182543.0  -0.124193  51.526795             1   \n",
      "3                184605.0  -0.191044  51.546387             1   \n",
      "4                184004.0  -0.200064  51.541121             1   \n",
      "\n",
      "   accident_severity  number_of_vehicles  ...  \\\n",
      "0                  3                   2  ...   \n",
      "1                  3                   2  ...   \n",
      "2                  3                   2  ...   \n",
      "3                  2                   1  ...   \n",
      "4                  3                   2  ...   \n",
      "\n",
      "   pedestrian_crossing_physical_facilities light_conditions  \\\n",
      "0                                        5                1   \n",
      "1                                        9                4   \n",
      "2                                        0                4   \n",
      "3                                        0                4   \n",
      "4                                        0                4   \n",
      "\n",
      "   weather_conditions road_surface_conditions  special_conditions_at_site  \\\n",
      "0                   1                       1                           0   \n",
      "1                   1                       1                           0   \n",
      "2                   1                       1                           0   \n",
      "3                   1                       1                           0   \n",
      "4                   1                       1                           0   \n",
      "\n",
      "  carriageway_hazards urban_or_rural_area  \\\n",
      "0                   0                   1   \n",
      "1                   0                   1   \n",
      "2                   0                   1   \n",
      "3                   0                   1   \n",
      "4                   0                   1   \n",
      "\n",
      "   did_police_officer_attend_scene_of_accident  trunk_road_flag  \\\n",
      "0                                            3                2   \n",
      "1                                            3                2   \n",
      "2                                            1                2   \n",
      "3                                            1                2   \n",
      "4                                            1                2   \n",
      "\n",
      "   lsoa_of_accident_location  \n",
      "0                  E01004762  \n",
      "1                  E01003117  \n",
      "2                  E01000943  \n",
      "3                  E01000973  \n",
      "4                  E01000546  \n",
      "\n",
      "[5 rows x 36 columns]\n"
     ]
    }
   ],
   "source": [
    "print(df1.head())"
   ]
  },
  {
   "cell_type": "code",
   "execution_count": 16,
   "id": "c775819b",
   "metadata": {},
   "outputs": [],
   "source": [
    "df_concat = pd.concat([df1, df2, df3])"
   ]
  },
  {
   "cell_type": "code",
   "execution_count": 17,
   "id": "dce3056a",
   "metadata": {
    "scrolled": true
   },
   "outputs": [
    {
     "name": "stdout",
     "output_type": "stream",
     "text": [
      "  accident_index  accident_year accident_reference  location_easting_osgr  \\\n",
      "0  2019010128300           2019           10128300               528218.0   \n",
      "1  2019010152270           2019           10152270               530219.0   \n",
      "2  2019010155191           2019           10155191               530222.0   \n",
      "3  2019010155192           2019           10155192               525531.0   \n",
      "4  2019010155194           2019           10155194               524920.0   \n",
      "\n",
      "   location_northing_osgr  longitude   latitude  police_force  \\\n",
      "0                180407.0  -0.153842  51.508057             1   \n",
      "1                172463.0  -0.127949  51.436208             1   \n",
      "2                182543.0  -0.124193  51.526795             1   \n",
      "3                184605.0  -0.191044  51.546387             1   \n",
      "4                184004.0  -0.200064  51.541121             1   \n",
      "\n",
      "   accident_severity  number_of_vehicles  ...  \\\n",
      "0                  3                   2  ...   \n",
      "1                  3                   2  ...   \n",
      "2                  3                   2  ...   \n",
      "3                  2                   1  ...   \n",
      "4                  3                   2  ...   \n",
      "\n",
      "   pedestrian_crossing_physical_facilities light_conditions  \\\n",
      "0                                        5                1   \n",
      "1                                        9                4   \n",
      "2                                        0                4   \n",
      "3                                        0                4   \n",
      "4                                        0                4   \n",
      "\n",
      "   weather_conditions road_surface_conditions  special_conditions_at_site  \\\n",
      "0                   1                       1                           0   \n",
      "1                   1                       1                           0   \n",
      "2                   1                       1                           0   \n",
      "3                   1                       1                           0   \n",
      "4                   1                       1                           0   \n",
      "\n",
      "  carriageway_hazards urban_or_rural_area  \\\n",
      "0                   0                   1   \n",
      "1                   0                   1   \n",
      "2                   0                   1   \n",
      "3                   0                   1   \n",
      "4                   0                   1   \n",
      "\n",
      "   did_police_officer_attend_scene_of_accident  trunk_road_flag  \\\n",
      "0                                            3                2   \n",
      "1                                            3                2   \n",
      "2                                            1                2   \n",
      "3                                            1                2   \n",
      "4                                            1                2   \n",
      "\n",
      "   lsoa_of_accident_location  \n",
      "0                  E01004762  \n",
      "1                  E01003117  \n",
      "2                  E01000943  \n",
      "3                  E01000973  \n",
      "4                  E01000546  \n",
      "\n",
      "[5 rows x 36 columns]\n"
     ]
    }
   ],
   "source": [
    "print(df_concat.head())"
   ]
  },
  {
   "cell_type": "code",
   "execution_count": 18,
   "id": "89d90d33",
   "metadata": {},
   "outputs": [],
   "source": [
    "# reset the index\n",
    "df_concat = df_concat.reset_index(drop=True)"
   ]
  },
  {
   "cell_type": "code",
   "execution_count": 19,
   "id": "71dc1705",
   "metadata": {},
   "outputs": [],
   "source": [
    "df_concat.to_csv(\"concatenated_dataset.csv\", index=False)"
   ]
  },
  {
   "cell_type": "code",
   "execution_count": null,
   "id": "aa990c96",
   "metadata": {},
   "outputs": [],
   "source": [
    "# filter dataframe to EXCLUDE rows where 'Year' column is equal to 2011 or 2012\n",
    "# df = df[(df['Year'] != 2011) & (df['Year'] != 2012)]"
   ]
  }
 ],
 "metadata": {
  "kernelspec": {
   "display_name": "Python 3 (ipykernel)",
   "language": "python",
   "name": "python3"
  },
  "language_info": {
   "codemirror_mode": {
    "name": "ipython",
    "version": 3
   },
   "file_extension": ".py",
   "mimetype": "text/x-python",
   "name": "python",
   "nbconvert_exporter": "python",
   "pygments_lexer": "ipython3",
   "version": "3.10.9"
  }
 },
 "nbformat": 4,
 "nbformat_minor": 5
}
